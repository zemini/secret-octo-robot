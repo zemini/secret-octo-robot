{
 "cells": [
  {
   "cell_type": "code",
   "execution_count": 13,
   "id": "6b1140b2",
   "metadata": {},
   "outputs": [
    {
     "name": "stdout",
     "output_type": "stream",
     "text": [
      "Status code: 200\n",
      "{'list': [{'reportId': 175011, 'createdBy': 'WAHIS', 'eventId': 5825, 'country': 'Greece', 'disease': 'Sheep pox and goat pox ', 'subType': None, 'eventStartDate': '2024-08-19T00:00:00.000+00:00', 'eventStatus': 'On-going', 'reason': 'Recurrence of an eradicated disease', 'reportType': 'FUR', 'reportStatus': 'Validated', 'submissionDate': '2025-06-30T07:00:27.457+00:00', 'reportNumber': 131, 'isAquatic': False}, {'reportId': 175010, 'createdBy': 'WAHIS', 'eventId': 4849, 'country': 'Greece', 'disease': 'African swine fever virus (Inf. with) ', 'subType': None, 'eventStartDate': '2023-01-18T00:00:00.000+00:00', 'eventStatus': 'On-going', 'reason': 'Recurrence of an eradicated disease', 'reportType': 'FUR', 'reportStatus': 'Validated', 'submissionDate': '2025-06-30T06:46:49.284+00:00', 'reportNumber': 85, 'isAquatic': False}, {'reportId': 175005, 'createdBy': 'WAHIS', 'eventId': 5754, 'country': 'Cambodia', 'disease': 'High pathogenicity avian influenza viruses (poultry) (Inf. with)', 'subType': 'H5N1', 'eventStartDate': '2024-07-05T00:00:00.000+00:00', 'eventStatus': 'On-going', 'reason': 'Recurrence of an eradicated disease', 'reportType': 'FUR', 'reportStatus': 'Validated', 'submissionDate': '2025-06-29T10:23:06.451+00:00', 'reportNumber': 13, 'isAquatic': False}, {'reportId': 175004, 'createdBy': 'ADIS', 'eventId': 6572, 'country': 'North Macedonia', 'disease': 'Bluetongue virus (Inf. with) ', 'subType': '8', 'eventStartDate': '2025-06-20T00:00:00.000+00:00', 'eventStatus': 'On-going', 'reason': 'Recurrence of an eradicated disease', 'reportType': 'FUR', 'reportStatus': 'Validated', 'submissionDate': '2025-06-29T09:55:14.471+00:00', 'reportNumber': 1, 'isAquatic': False}, {'reportId': 174872, 'createdBy': 'WAHIS', 'eventId': 6566, 'country': 'United States of America', 'disease': 'Perkinsus olseni (Inf. with)(2006-)', 'subType': None, 'eventStartDate': '2025-05-07T00:00:00.000+00:00', 'eventStatus': 'On-going', 'reason': 'New host', 'reportType': 'IN', 'reportStatus': 'Validated', 'submissionDate': '2025-06-27T21:11:38.472+00:00', 'reportNumber': 0, 'isAquatic': True}, {'reportId': 174998, 'createdBy': 'WAHIS', 'eventId': 6552, 'country': 'United Kingdom', 'disease': 'High pathogenicity avian influenza viruses (poultry) (Inf. with)', 'subType': 'H5N1', 'eventStartDate': '2025-05-30T00:00:00.000+00:00', 'eventStatus': 'On-going', 'reason': 'Recurrence of an eradicated disease', 'reportType': 'FUR', 'reportStatus': 'Validated', 'submissionDate': '2025-06-27T15:26:17.887+00:00', 'reportNumber': 2, 'isAquatic': False}, {'reportId': 174986, 'createdBy': 'WAHIS', 'eventId': 6579, 'country': 'United Kingdom', 'disease': 'High pathogenicity avian influenza viruses (poultry) (Inf. with)', 'subType': 'H5N1', 'eventStartDate': '2025-06-18T00:00:00.000+00:00', 'eventStatus': 'On-going', 'reason': 'Recurrence of an eradicated disease', 'reportType': 'FUR', 'reportStatus': 'Validated', 'submissionDate': '2025-06-27T15:25:59.740+00:00', 'reportNumber': 1, 'isAquatic': False}, {'reportId': 174997, 'createdBy': 'WAHIS', 'eventId': 6524, 'country': 'United Kingdom', 'disease': 'Scrapie ', 'subType': None, 'eventStartDate': '2025-05-16T00:00:00.000+00:00', 'eventStatus': 'Stable', 'reason': 'Recurrence of an eradicated disease', 'reportType': 'FUR', 'reportStatus': 'Validated', 'submissionDate': '2025-06-27T15:19:45.104+00:00', 'reportNumber': 4, 'isAquatic': False}, {'reportId': 174996, 'createdBy': 'ADIS', 'eventId': 6528, 'country': 'Latvia', 'disease': 'High pathogenicity avian influenza viruses (poultry) (Inf. with)', 'subType': 'H5N1', 'eventStartDate': '2025-05-27T00:00:00.000+00:00', 'eventStatus': 'On-going', 'reason': 'First occurrence in the country', 'reportType': 'FUR', 'reportStatus': 'Validated', 'submissionDate': '2025-06-27T13:11:40.813+00:00', 'reportNumber': 4, 'isAquatic': False}, {'reportId': 174995, 'createdBy': 'ADIS', 'eventId': 6532, 'country': 'Poland', 'disease': 'African swine fever virus (Inf. with) ', 'subType': None, 'eventStartDate': '2025-05-28T00:00:00.000+00:00', 'eventStatus': 'On-going', 'reason': 'First occurrence in a zone or a compartment', 'reportType': 'FUR', 'reportStatus': 'Validated', 'submissionDate': '2025-06-27T12:59:32.485+00:00', 'reportNumber': 3, 'isAquatic': False}], 'totalSize': 5831, 'pageSize': 10, 'pageNumber': 0, 'sortColumn': 'submissionDate', 'sortOrder': 'DESC'}\n"
     ]
    }
   ],
   "source": [
    "import requests\n",
    "import json\n",
    "\n",
    "url = \"https://wahis.woah.org/api/v1/pi/event/filtered-list?language=en\"\n",
    "\n",
    "headers = {\n",
    "    \"Content-Type\": \"application/json\",\n",
    "    \"User-Agent\": \"Mozilla/5.0 (Windows NT 10.0; Win64; x64)\",\n",
    "    \"Accept\": \"application/json, text/plain, */*\",\n",
    "    \"Origin\": \"https://wahis.woah.org\",\n",
    "    \"Referer\": \"https://wahis.woah.org/\",\n",
    "    \"authorizationToken\": \"#PIPRD202006#\",\n",
    "    \"clientId\": \"OIEwebsite\",\n",
    "    \"type\": \"REQUEST\"\n",
    "}\n",
    "\n",
    "payload = {\n",
    "    \"eventIds\": [],\n",
    "    \"reportIds\": [],\n",
    "    \"countries\": [],\n",
    "    \"firstDiseases\": [],\n",
    "    \"secondDiseases\": [],\n",
    "    \"typeStatuses\": [],\n",
    "    \"animalTypes\": [],\n",
    "    \"eventStatuses\": [],\n",
    "    \"reasons\": [],\n",
    "    \"reportStatuses\": [],\n",
    "    \"reportTypes\": [],\n",
    "    \"pageNumber\": 0,\n",
    "    \"pageSize\": 10,\n",
    "    \"sortColumn\": \"submissionDate\",\n",
    "    \"sortOrder\": \"desc\",\n",
    "    \"eventStartDate\": None,\n",
    "    \"submissionDate\": None\n",
    "}\n",
    "\n",
    "response = requests.post(url, headers=headers, json=payload)\n",
    "\n",
    "print(\"Status code:\", response.status_code)\n",
    "try:\n",
    "    print(response.json())\n",
    "except Exception as e:\n",
    "    print(\"Error decoding JSON:\", e)\n",
    "    print(response.text)\n"
   ]
  },
  {
   "cell_type": "code",
   "execution_count": 20,
   "id": "6b2cf352",
   "metadata": {},
   "outputs": [
    {
     "name": "stdout",
     "output_type": "stream",
     "text": [
      "Status code: 400\n",
      "{'status': 'BAD_REQUEST', 'timestamp': '30-06-2025 10:41:56', 'errorCode': '', 'errorDetail': '', 'exceptionDetail': 'ServerWebInputException'}\n"
     ]
    }
   ],
   "source": [
    "import requests\n",
    "import csv\n",
    "\n",
    "url = \"https://wahis.woah.org/api/v1/pi/event/filtered-list\"  # ⬅️ Removed ?language=en\n",
    "\n",
    "headers = {\n",
    "    \"Content-Type\": \"application/json\",\n",
    "    \"User-Agent\": \"Mozilla/5.0\",\n",
    "    \"Origin\": \"https://wahis.woah.org\",\n",
    "    \"Referer\": \"https://wahis.woah.org/\",\n",
    "    \"authorizationToken\": \"#PIPRD202006#\",\n",
    "    \"clientId\": \"OIEwebsite\",\n",
    "    \"type\": \"REQUEST\"\n",
    "}\n",
    "\n",
    "payload = {\n",
    "    \"countries\": [{\"label\": \"Cambodia\", \"value\": \"KH\"}],\n",
    "    \"pageNumber\": 0,\n",
    "    \"pageSize\": 10,\n",
    "    \"sortColumn\": \"submissionDate\",\n",
    "    \"sortOrder\": \"desc\"\n",
    "}\n",
    "\n",
    "response = requests.post(url, headers=headers, json=payload)\n",
    "\n",
    "print(\"Status code:\", response.status_code)\n",
    "try:\n",
    "    print(response.json())\n",
    "except Exception as e:\n",
    "    print(\"Error parsing JSON:\", e)\n",
    "    print(response.text)\n"
   ]
  },
  {
   "cell_type": "code",
   "execution_count": 23,
   "id": "14b857b3",
   "metadata": {},
   "outputs": [
    {
     "name": "stdout",
     "output_type": "stream",
     "text": [
      "Requirement already satisfied: selenium in c:\\python39\\lib\\site-packages (4.34.0)\n",
      "Collecting webdriver-manager\n",
      "  Downloading webdriver_manager-4.0.2-py2.py3-none-any.whl (27 kB)\n",
      "Requirement already satisfied: trio~=0.30.0 in c:\\python39\\lib\\site-packages (from selenium) (0.30.0)\n",
      "Requirement already satisfied: trio-websocket~=0.12.2 in c:\\python39\\lib\\site-packages (from selenium) (0.12.2)\n",
      "Requirement already satisfied: websocket-client~=1.8.0 in c:\\python39\\lib\\site-packages (from selenium) (1.8.0)\n",
      "Requirement already satisfied: typing_extensions~=4.14.0 in c:\\python39\\lib\\site-packages (from selenium) (4.14.0)\n",
      "Requirement already satisfied: urllib3[socks]~=2.4.0 in c:\\python39\\lib\\site-packages (from selenium) (2.4.0)\n",
      "Requirement already satisfied: certifi>=2025.4.26 in c:\\python39\\lib\\site-packages (from selenium) (2025.6.15)\n",
      "Requirement already satisfied: sniffio>=1.3.0 in c:\\python39\\lib\\site-packages (from trio~=0.30.0->selenium) (1.3.1)\n",
      "Requirement already satisfied: exceptiongroup in c:\\python39\\lib\\site-packages (from trio~=0.30.0->selenium) (1.3.0)\n",
      "Requirement already satisfied: outcome in c:\\python39\\lib\\site-packages (from trio~=0.30.0->selenium) (1.3.0.post0)\n",
      "Requirement already satisfied: idna in c:\\python39\\lib\\site-packages (from trio~=0.30.0->selenium) (3.10)\n",
      "Requirement already satisfied: cffi>=1.14 in c:\\python39\\lib\\site-packages (from trio~=0.30.0->selenium) (1.14.5)\n",
      "Requirement already satisfied: attrs>=23.2.0 in c:\\python39\\lib\\site-packages (from trio~=0.30.0->selenium) (25.3.0)\n",
      "Requirement already satisfied: sortedcontainers in c:\\python39\\lib\\site-packages (from trio~=0.30.0->selenium) (2.4.0)\n",
      "Requirement already satisfied: pycparser in c:\\python39\\lib\\site-packages (from cffi>=1.14->trio~=0.30.0->selenium) (2.20)\n",
      "Requirement already satisfied: wsproto>=0.14 in c:\\python39\\lib\\site-packages (from trio-websocket~=0.12.2->selenium) (1.2.0)\n",
      "Requirement already satisfied: pysocks!=1.5.7,<2.0,>=1.5.6 in c:\\python39\\lib\\site-packages (from urllib3[socks]~=2.4.0->selenium) (1.7.1)\n",
      "Requirement already satisfied: h11<1,>=0.9.0 in c:\\python39\\lib\\site-packages (from wsproto>=0.14->trio-websocket~=0.12.2->selenium) (0.16.0)\n",
      "Requirement already satisfied: packaging in c:\\python39\\lib\\site-packages (from webdriver-manager) (20.9)\n",
      "Collecting python-dotenv\n",
      "  Downloading python_dotenv-1.1.1-py3-none-any.whl (20 kB)\n",
      "Requirement already satisfied: requests in c:\\python39\\lib\\site-packages (from webdriver-manager) (2.32.4)\n",
      "Requirement already satisfied: pyparsing>=2.0.2 in c:\\python39\\lib\\site-packages (from packaging->webdriver-manager) (2.4.7)\n",
      "Requirement already satisfied: charset_normalizer<4,>=2 in c:\\python39\\lib\\site-packages (from requests->webdriver-manager) (3.4.2)\n",
      "Installing collected packages: python-dotenv, webdriver-manager\n",
      "Successfully installed python-dotenv-1.1.1 webdriver-manager-4.0.2\n"
     ]
    },
    {
     "name": "stderr",
     "output_type": "stream",
     "text": [
      "WARNING: You are using pip version 21.1.1; however, version 25.1.1 is available.\n",
      "You should consider upgrading via the 'c:\\python39\\python.exe -m pip install --upgrade pip' command.\n"
     ]
    },
    {
     "name": "stdout",
     "output_type": "stream",
     "text": [
      "✅ Page loaded and saved as 'wahis_event_page.html'\n"
     ]
    }
   ],
   "source": [
    "!pip install selenium webdriver-manager\n",
    "from selenium import webdriver\n",
    "from selenium.webdriver.chrome.service import Service\n",
    "from webdriver_manager.chrome import ChromeDriverManager\n",
    "from selenium.webdriver.chrome.options import Options\n",
    "import time\n",
    "\n",
    "# Set up headless Chrome browser\n",
    "options = Options()\n",
    "options.add_argument(\"--headless\")  # comment this line to see the browser\n",
    "driver = webdriver.Chrome(service=Service(ChromeDriverManager().install()), options=options)\n",
    "\n",
    "# Go to the event management page\n",
    "driver.get(\"https://wahis.woah.org/#/event-management\")\n",
    "\n",
    "# Wait for the page and data to fully load\n",
    "time.sleep(15)  # increase if needed\n",
    "\n",
    "# Get the full rendered HTML\n",
    "html = driver.page_source\n",
    "\n",
    "# Save HTML locally to inspect\n",
    "with open(\"wahis_event_page.html\", \"w\", encoding=\"utf-8\") as f:\n",
    "    f.write(html)\n",
    "\n",
    "print(\"✅ Page loaded and saved as 'wahis_event_page.html'\")\n",
    "\n",
    "driver.quit()\n"
   ]
  },
  {
   "cell_type": "code",
   "execution_count": 24,
   "id": "afca97f7",
   "metadata": {},
   "outputs": [
    {
     "name": "stdout",
     "output_type": "stream",
     "text": [
      "Found: Cambodia\n"
     ]
    }
   ],
   "source": [
    "from bs4 import BeautifulSoup\n",
    "\n",
    "with open(\"wahis_event_page.html\", \"r\", encoding=\"utf-8\") as f:\n",
    "    html = f.read()\n",
    "\n",
    "soup = BeautifulSoup(html, \"html.parser\")\n",
    "\n",
    "# Example: find all rows containing Cambodia (update the selector as needed)\n",
    "rows = soup.find_all(string=lambda text: \"Cambodia\" in text)\n",
    "\n",
    "for row in rows:\n",
    "    print(\"Found:\", row)\n"
   ]
  },
  {
   "cell_type": "code",
   "execution_count": 25,
   "id": "60117e66",
   "metadata": {},
   "outputs": [
    {
     "name": "stdout",
     "output_type": "stream",
     "text": [
      "\n",
      "--- Report 1 ---\n",
      "WAHISmenuAnalyticskeyboard_arrow_downANALYTICS Dashboards enable users to consult, visualize and extract officially validated animal health information.  Disease situation  Quantitative data  Surveillance and control measures  Animal population Reportskeyboard_arrow_downREPORTS Real-time information on exceptional animal disease events for listed and emerging diseases collected via the early warning system, six-monthly information on Listed disease, and annual reports containing animal population information collected via the monitoring system.  Animal disease events  Six-monthly reports  Annual reports WOAHarrow_outwardENFRESAuthorised accessperson_outlinedHOMEkeyboard_double_arrow_rightANIMAL DISEASE EVENTSEvents managementFiltersclosestarApply favoritessaveEvent IDEvent statusAnimal typeReport typeCountryDiseaseSubtypeReason for notificationStart date–Event start dateStart date–Report dateWorld regionfilter_altdouble_arrowFiltersmapSee on the map checkboxCountryexpand_lessReport numberexpand_lessDiseaseexpand_lessGenotype/ Serotype/ Subtypeexpand_lessReasonexpand_lessStart dateexpand_lessReport dateexpand_lesssettings  fiber_manual_recordGreeceFUR_131Sheep pox and goat pox Recurrence of an eradicated disease2024/08/192025/06/30launchmore_horiz  fiber_manual_recordGreeceFUR_85African swine fever virus (Inf. with) Recurrence of an eradicated disease2023/01/182025/06/30launchmore_horiz  fiber_manual_recordCambodiaFUR_13High pathogenicity avian influenza viruses (poultry) (Inf. with)H5N1Recurrence of an eradicated disease2024/07/052025/06/29launchmore_horiz  fiber_manual_recordNorth MacedoniaFUR_1Bluetongue virus (Inf. with) 8Recurrence of an eradicated disease2025/06/202025/06/29launchmore_horiz  fiber_manual_recordUnited States of AmericaINPerkinsus olseni (Inf. with)(2006-)New host2025/05/072025/06/27launchmore_horiz  fiber_manual_recordUnited KingdomFUR_2High pathogenicity avian influenza viruses (poultry) (Inf. with)H5N1Recurrence of an eradicated disease2025/05/302025/06/27launchmore_horiz  fiber_manual_recordUnited KingdomFUR_1High pathogenicity avian influenza viruses (poultry) (Inf. with)H5N1Recurrence of an eradicated disease2025/06/182025/06/27launchmore_horiz  fiber_manual_recordUnited KingdomFUR_4Scrapie Recurrence of an eradicated disease2025/05/162025/06/27launchmore_horiz  fiber_manual_recordLatviaFUR_4High pathogenicity avian influenza viruses (poultry) (Inf. with)H5N1First occurrence in the country2025/05/272025/06/27launchmore_horiz  fiber_manual_recordPolandFUR_3African swine fever virus (Inf. with) First occurrence in a zone or a compartment2025/05/282025/06/27launchmore_horiz Items per page 10 1 - 10 of 5831 WAHISWAHISTraining platformContactFAQWOAHCorporate websiteCareersREGIONSAfricaAmericasAsia and the PacificEuropeMiddle EastFOLLOW USTerms of Use and ConditionsPrivacy policyCookies policyCopyright © World Organisation for Animal Health 2023\n",
      "\n",
      "--- Report 2 ---\n",
      "Events managementFiltersclosestarApply favoritessaveEvent IDEvent statusAnimal typeReport typeCountryDiseaseSubtypeReason for notificationStart date–Event start dateStart date–Report dateWorld regionfilter_altdouble_arrowFiltersmapSee on the map checkboxCountryexpand_lessReport numberexpand_lessDiseaseexpand_lessGenotype/ Serotype/ Subtypeexpand_lessReasonexpand_lessStart dateexpand_lessReport dateexpand_lesssettings  fiber_manual_recordGreeceFUR_131Sheep pox and goat pox Recurrence of an eradicated disease2024/08/192025/06/30launchmore_horiz  fiber_manual_recordGreeceFUR_85African swine fever virus (Inf. with) Recurrence of an eradicated disease2023/01/182025/06/30launchmore_horiz  fiber_manual_recordCambodiaFUR_13High pathogenicity avian influenza viruses (poultry) (Inf. with)H5N1Recurrence of an eradicated disease2024/07/052025/06/29launchmore_horiz  fiber_manual_recordNorth MacedoniaFUR_1Bluetongue virus (Inf. with) 8Recurrence of an eradicated disease2025/06/202025/06/29launchmore_horiz  fiber_manual_recordUnited States of AmericaINPerkinsus olseni (Inf. with)(2006-)New host2025/05/072025/06/27launchmore_horiz  fiber_manual_recordUnited KingdomFUR_2High pathogenicity avian influenza viruses (poultry) (Inf. with)H5N1Recurrence of an eradicated disease2025/05/302025/06/27launchmore_horiz  fiber_manual_recordUnited KingdomFUR_1High pathogenicity avian influenza viruses (poultry) (Inf. with)H5N1Recurrence of an eradicated disease2025/06/182025/06/27launchmore_horiz  fiber_manual_recordUnited KingdomFUR_4Scrapie Recurrence of an eradicated disease2025/05/162025/06/27launchmore_horiz  fiber_manual_recordLatviaFUR_4High pathogenicity avian influenza viruses (poultry) (Inf. with)H5N1First occurrence in the country2025/05/272025/06/27launchmore_horiz  fiber_manual_recordPolandFUR_3African swine fever virus (Inf. with) First occurrence in a zone or a compartment2025/05/282025/06/27launchmore_horiz Items per page 10 1 - 10 of 5831\n",
      "\n",
      "--- Report 3 ---\n",
      "FiltersclosestarApply favoritessaveEvent IDEvent statusAnimal typeReport typeCountryDiseaseSubtypeReason for notificationStart date–Event start dateStart date–Report dateWorld regionfilter_altdouble_arrowFiltersmapSee on the map checkboxCountryexpand_lessReport numberexpand_lessDiseaseexpand_lessGenotype/ Serotype/ Subtypeexpand_lessReasonexpand_lessStart dateexpand_lessReport dateexpand_lesssettings  fiber_manual_recordGreeceFUR_131Sheep pox and goat pox Recurrence of an eradicated disease2024/08/192025/06/30launchmore_horiz  fiber_manual_recordGreeceFUR_85African swine fever virus (Inf. with) Recurrence of an eradicated disease2023/01/182025/06/30launchmore_horiz  fiber_manual_recordCambodiaFUR_13High pathogenicity avian influenza viruses (poultry) (Inf. with)H5N1Recurrence of an eradicated disease2024/07/052025/06/29launchmore_horiz  fiber_manual_recordNorth MacedoniaFUR_1Bluetongue virus (Inf. with) 8Recurrence of an eradicated disease2025/06/202025/06/29launchmore_horiz  fiber_manual_recordUnited States of AmericaINPerkinsus olseni (Inf. with)(2006-)New host2025/05/072025/06/27launchmore_horiz  fiber_manual_recordUnited KingdomFUR_2High pathogenicity avian influenza viruses (poultry) (Inf. with)H5N1Recurrence of an eradicated disease2025/05/302025/06/27launchmore_horiz  fiber_manual_recordUnited KingdomFUR_1High pathogenicity avian influenza viruses (poultry) (Inf. with)H5N1Recurrence of an eradicated disease2025/06/182025/06/27launchmore_horiz  fiber_manual_recordUnited KingdomFUR_4Scrapie Recurrence of an eradicated disease2025/05/162025/06/27launchmore_horiz  fiber_manual_recordLatviaFUR_4High pathogenicity avian influenza viruses (poultry) (Inf. with)H5N1First occurrence in the country2025/05/272025/06/27launchmore_horiz  fiber_manual_recordPolandFUR_3African swine fever virus (Inf. with) First occurrence in a zone or a compartment2025/05/282025/06/27launchmore_horiz Items per page 10 1 - 10 of 5831\n",
      "\n",
      "--- Report 4 ---\n",
      "filter_altdouble_arrowFiltersmapSee on the map checkboxCountryexpand_lessReport numberexpand_lessDiseaseexpand_lessGenotype/ Serotype/ Subtypeexpand_lessReasonexpand_lessStart dateexpand_lessReport dateexpand_lesssettings  fiber_manual_recordGreeceFUR_131Sheep pox and goat pox Recurrence of an eradicated disease2024/08/192025/06/30launchmore_horiz  fiber_manual_recordGreeceFUR_85African swine fever virus (Inf. with) Recurrence of an eradicated disease2023/01/182025/06/30launchmore_horiz  fiber_manual_recordCambodiaFUR_13High pathogenicity avian influenza viruses (poultry) (Inf. with)H5N1Recurrence of an eradicated disease2024/07/052025/06/29launchmore_horiz  fiber_manual_recordNorth MacedoniaFUR_1Bluetongue virus (Inf. with) 8Recurrence of an eradicated disease2025/06/202025/06/29launchmore_horiz  fiber_manual_recordUnited States of AmericaINPerkinsus olseni (Inf. with)(2006-)New host2025/05/072025/06/27launchmore_horiz  fiber_manual_recordUnited KingdomFUR_2High pathogenicity avian influenza viruses (poultry) (Inf. with)H5N1Recurrence of an eradicated disease2025/05/302025/06/27launchmore_horiz  fiber_manual_recordUnited KingdomFUR_1High pathogenicity avian influenza viruses (poultry) (Inf. with)H5N1Recurrence of an eradicated disease2025/06/182025/06/27launchmore_horiz  fiber_manual_recordUnited KingdomFUR_4Scrapie Recurrence of an eradicated disease2025/05/162025/06/27launchmore_horiz  fiber_manual_recordLatviaFUR_4High pathogenicity avian influenza viruses (poultry) (Inf. with)H5N1First occurrence in the country2025/05/272025/06/27launchmore_horiz  fiber_manual_recordPolandFUR_3African swine fever virus (Inf. with) First occurrence in a zone or a compartment2025/05/282025/06/27launchmore_horiz Items per page 10 1 - 10 of 5831\n",
      "\n",
      "--- Report 5 ---\n",
      "checkboxCountryexpand_lessReport numberexpand_lessDiseaseexpand_lessGenotype/ Serotype/ Subtypeexpand_lessReasonexpand_lessStart dateexpand_lessReport dateexpand_lesssettings  fiber_manual_recordGreeceFUR_131Sheep pox and goat pox Recurrence of an eradicated disease2024/08/192025/06/30launchmore_horiz  fiber_manual_recordGreeceFUR_85African swine fever virus (Inf. with) Recurrence of an eradicated disease2023/01/182025/06/30launchmore_horiz  fiber_manual_recordCambodiaFUR_13High pathogenicity avian influenza viruses (poultry) (Inf. with)H5N1Recurrence of an eradicated disease2024/07/052025/06/29launchmore_horiz  fiber_manual_recordNorth MacedoniaFUR_1Bluetongue virus (Inf. with) 8Recurrence of an eradicated disease2025/06/202025/06/29launchmore_horiz  fiber_manual_recordUnited States of AmericaINPerkinsus olseni (Inf. with)(2006-)New host2025/05/072025/06/27launchmore_horiz  fiber_manual_recordUnited KingdomFUR_2High pathogenicity avian influenza viruses (poultry) (Inf. with)H5N1Recurrence of an eradicated disease2025/05/302025/06/27launchmore_horiz  fiber_manual_recordUnited KingdomFUR_1High pathogenicity avian influenza viruses (poultry) (Inf. with)H5N1Recurrence of an eradicated disease2025/06/182025/06/27launchmore_horiz  fiber_manual_recordUnited KingdomFUR_4Scrapie Recurrence of an eradicated disease2025/05/162025/06/27launchmore_horiz  fiber_manual_recordLatviaFUR_4High pathogenicity avian influenza viruses (poultry) (Inf. with)H5N1First occurrence in the country2025/05/272025/06/27launchmore_horiz  fiber_manual_recordPolandFUR_3African swine fever virus (Inf. with) First occurrence in a zone or a compartment2025/05/282025/06/27launchmore_horiz Items per page 10 1 - 10 of 5831\n",
      "\n",
      "--- Report 6 ---\n",
      "checkboxCountryexpand_lessReport numberexpand_lessDiseaseexpand_lessGenotype/ Serotype/ Subtypeexpand_lessReasonexpand_lessStart dateexpand_lessReport dateexpand_lesssettings  fiber_manual_recordGreeceFUR_131Sheep pox and goat pox Recurrence of an eradicated disease2024/08/192025/06/30launchmore_horiz  fiber_manual_recordGreeceFUR_85African swine fever virus (Inf. with) Recurrence of an eradicated disease2023/01/182025/06/30launchmore_horiz  fiber_manual_recordCambodiaFUR_13High pathogenicity avian influenza viruses (poultry) (Inf. with)H5N1Recurrence of an eradicated disease2024/07/052025/06/29launchmore_horiz  fiber_manual_recordNorth MacedoniaFUR_1Bluetongue virus (Inf. with) 8Recurrence of an eradicated disease2025/06/202025/06/29launchmore_horiz  fiber_manual_recordUnited States of AmericaINPerkinsus olseni (Inf. with)(2006-)New host2025/05/072025/06/27launchmore_horiz  fiber_manual_recordUnited KingdomFUR_2High pathogenicity avian influenza viruses (poultry) (Inf. with)H5N1Recurrence of an eradicated disease2025/05/302025/06/27launchmore_horiz  fiber_manual_recordUnited KingdomFUR_1High pathogenicity avian influenza viruses (poultry) (Inf. with)H5N1Recurrence of an eradicated disease2025/06/182025/06/27launchmore_horiz  fiber_manual_recordUnited KingdomFUR_4Scrapie Recurrence of an eradicated disease2025/05/162025/06/27launchmore_horiz  fiber_manual_recordLatviaFUR_4High pathogenicity avian influenza viruses (poultry) (Inf. with)H5N1First occurrence in the country2025/05/272025/06/27launchmore_horiz  fiber_manual_recordPolandFUR_3African swine fever virus (Inf. with) First occurrence in a zone or a compartment2025/05/282025/06/27launchmore_horiz\n",
      "\n",
      "--- Report 7 ---\n",
      "fiber_manual_recordGreeceFUR_131Sheep pox and goat pox Recurrence of an eradicated disease2024/08/192025/06/30launchmore_horiz  fiber_manual_recordGreeceFUR_85African swine fever virus (Inf. with) Recurrence of an eradicated disease2023/01/182025/06/30launchmore_horiz  fiber_manual_recordCambodiaFUR_13High pathogenicity avian influenza viruses (poultry) (Inf. with)H5N1Recurrence of an eradicated disease2024/07/052025/06/29launchmore_horiz  fiber_manual_recordNorth MacedoniaFUR_1Bluetongue virus (Inf. with) 8Recurrence of an eradicated disease2025/06/202025/06/29launchmore_horiz  fiber_manual_recordUnited States of AmericaINPerkinsus olseni (Inf. with)(2006-)New host2025/05/072025/06/27launchmore_horiz  fiber_manual_recordUnited KingdomFUR_2High pathogenicity avian influenza viruses (poultry) (Inf. with)H5N1Recurrence of an eradicated disease2025/05/302025/06/27launchmore_horiz  fiber_manual_recordUnited KingdomFUR_1High pathogenicity avian influenza viruses (poultry) (Inf. with)H5N1Recurrence of an eradicated disease2025/06/182025/06/27launchmore_horiz  fiber_manual_recordUnited KingdomFUR_4Scrapie Recurrence of an eradicated disease2025/05/162025/06/27launchmore_horiz  fiber_manual_recordLatviaFUR_4High pathogenicity avian influenza viruses (poultry) (Inf. with)H5N1First occurrence in the country2025/05/272025/06/27launchmore_horiz  fiber_manual_recordPolandFUR_3African swine fever virus (Inf. with) First occurrence in a zone or a compartment2025/05/282025/06/27launchmore_horiz\n",
      "\n",
      "--- Report 8 ---\n",
      "fiber_manual_recordCambodiaFUR_13High pathogenicity avian influenza viruses (poultry) (Inf. with)H5N1Recurrence of an eradicated disease2024/07/052025/06/29launchmore_horiz\n",
      "\n",
      "--- Report 9 ---\n",
      "CambodiaFUR_13High pathogenicity avian influenza viruses (poultry) (Inf. with)H5N1Recurrence of an eradicated disease2024/07/052025/06/29\n",
      "\n",
      "--- Report 10 ---\n",
      "Cambodia\n"
     ]
    }
   ],
   "source": [
    "from bs4 import BeautifulSoup\n",
    "\n",
    "# Load saved page\n",
    "with open(\"wahis_event_page.html\", \"r\", encoding=\"utf-8\") as f:\n",
    "    html = f.read()\n",
    "\n",
    "soup = BeautifulSoup(html, \"html.parser\")\n",
    "\n",
    "# Try to find all rows that contain 'Cambodia'\n",
    "# Adjust the tag and class depending on the actual HTML structure\n",
    "matches = []\n",
    "\n",
    "# Search all divs or elements that might contain report data\n",
    "for div in soup.find_all(\"div\"):\n",
    "    if div.text and \"Cambodia\" in div.text:\n",
    "        # Simple keyword match — refine as needed\n",
    "        matches.append(div.text.strip())\n",
    "\n",
    "# Output results\n",
    "for i, m in enumerate(matches, 1):\n",
    "    print(f\"\\n--- Report {i} ---\\n{m}\")\n"
   ]
  },
  {
   "cell_type": "code",
   "execution_count": 29,
   "id": "340b0fce",
   "metadata": {},
   "outputs": [
    {
     "name": "stdout",
     "output_type": "stream",
     "text": [
      "✅ Found 9 potential Cambodia report(s)\n",
      "✅ Saved structured Cambodia report(s) to 'cambodia_reports_from_html.csv'\n"
     ]
    }
   ],
   "source": [
    "from bs4 import BeautifulSoup\n",
    "import csv\n",
    "\n",
    "# Load HTML\n",
    "with open(\"wahis_event_page.html\", \"r\", encoding=\"utf-8\") as f:\n",
    "    soup = BeautifulSoup(f, \"html.parser\")\n",
    "\n",
    "# Extract all divs or spans containing \"Cambodia\"\n",
    "matches = []\n",
    "for tag in soup.find_all([\"div\", \"span\"]):\n",
    "    text = tag.get_text(strip=True)\n",
    "    if \"Cambodia\" in text and \"FUR_\" in text:\n",
    "        matches.append(text)\n",
    "\n",
    "# Check if we found any\n",
    "print(f\"✅ Found {len(matches)} potential Cambodia report(s)\")\n",
    "\n",
    "# Write to CSV\n",
    "with open(\"cambodia_reports_from_html.csv\", mode=\"w\", newline='', encoding=\"utf-8\") as file:\n",
    "    writer = csv.writer(file)\n",
    "    writer.writerow([\n",
    "        \"Country\", \"Report Code\", \"Disease\", \"Subtype\",\n",
    "        \"Reason\", \"Event Start\", \"Submission Date\"\n",
    "    ])\n",
    "\n",
    "    for line in matches:\n",
    "        try:\n",
    "            # Step 1: Start after 'Cambodia'\n",
    "            parts = line.split(\"Cambodia\")\n",
    "            rest = parts[1]  # the part after 'Cambodia'\n",
    "\n",
    "            # Step 2: Extract report code\n",
    "            report_code = rest.split(\"High\")[0].strip()  # should be FUR_13\n",
    "            disease_full = \"High\" + rest.split(\"High\")[1].split(\"H5N1\")[0].strip()\n",
    "            subtype = \"H5N1\"\n",
    "            after_subtype = rest.split(\"H5N1\")[1]\n",
    "\n",
    "            # Step 3: Find two dates\n",
    "            import re\n",
    "            dates = re.findall(r\"\\d{4}/\\d{2}/\\d{2}\", after_subtype)\n",
    "            if len(dates) < 2:\n",
    "                continue\n",
    "            event_start, submission_date = dates[:2]\n",
    "\n",
    "            # Step 4: Reason = text between subtype and date\n",
    "            reason = after_subtype.split(dates[0])[0].strip()\n",
    "\n",
    "            writer.writerow([\n",
    "                \"Cambodia\", report_code, disease_full, subtype,\n",
    "                reason, event_start, submission_date\n",
    "            ])\n",
    "        except Exception as e:\n",
    "            print(\"⚠️ Could not parse:\", line)\n",
    "            print(\"Error:\", e)\n",
    "\n",
    "print(\"✅ Saved structured Cambodia report(s) to 'cambodia_reports_from_html.csv'\")\n"
   ]
  },
  {
   "cell_type": "code",
   "execution_count": null,
   "id": "a62f7741",
   "metadata": {},
   "outputs": [],
   "source": []
  }
 ],
 "metadata": {
  "kernelspec": {
   "display_name": "Python 3",
   "language": "python",
   "name": "python3"
  },
  "language_info": {
   "codemirror_mode": {
    "name": "ipython",
    "version": 3
   },
   "file_extension": ".py",
   "mimetype": "text/x-python",
   "name": "python",
   "nbconvert_exporter": "python",
   "pygments_lexer": "ipython3",
   "version": "3.9.5"
  }
 },
 "nbformat": 4,
 "nbformat_minor": 5
}
